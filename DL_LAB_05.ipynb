{
  "nbformat": 4,
  "nbformat_minor": 0,
  "metadata": {
    "colab": {
      "provenance": [],
      "authorship_tag": "ABX9TyMSTxc+U+uvPRwoK9jyfVCI",
      "include_colab_link": true
    },
    "kernelspec": {
      "name": "python3",
      "display_name": "Python 3"
    },
    "language_info": {
      "name": "python"
    }
  },
  "cells": [
    {
      "cell_type": "markdown",
      "metadata": {
        "id": "view-in-github",
        "colab_type": "text"
      },
      "source": [
        "<a href=\"https://colab.research.google.com/github/RayOfLight07/Deep-Learning/blob/main/DL_LAB_05.ipynb\" target=\"_parent\"><img src=\"https://colab.research.google.com/assets/colab-badge.svg\" alt=\"Open In Colab\"/></a>"
      ]
    },
    {
      "cell_type": "markdown",
      "source": [
        "Deep learning Lab_________________________________________________________________________Name: Deepasnhu Rathore     \n",
        "B.Tech. 5th Sem.\n",
        "#**Experiment:- 05**\n",
        "# Buiding Neural Networks from Scratch\n",
        "\n",
        "Date:09\\09\\2025____________________________________________________________________________________SAP: 500124406"
      ],
      "metadata": {
        "id": "HOoA1-e9r6dc"
      }
    },
    {
      "cell_type": "markdown",
      "source": [
        "**1. Implement a single neuron with weighted inputs for the AND gate and verify its functionality.**"
      ],
      "metadata": {
        "id": "8HbLWn-HrbMK"
      }
    },
    {
      "cell_type": "code",
      "execution_count": null,
      "metadata": {
        "colab": {
          "base_uri": "https://localhost:8080/"
        },
        "id": "emqF6XD6PMX0",
        "outputId": "3f3ffe7a-9fcc-4c79-8b40-ecc215926fd6"
      },
      "outputs": [
        {
          "output_type": "stream",
          "name": "stdout",
          "text": [
            "AND Gate using Single Neuron:\n",
            "Input: (0, 0), Output: 0\n",
            "Input: (0, 1), Output: 0\n",
            "Input: (1, 0), Output: 0\n",
            "Input: (1, 1), Output: 1\n"
          ]
        }
      ],
      "source": [
        "import numpy as np\n",
        "\n",
        "# Step function\n",
        "def step_function(x):\n",
        "    return 1 if x >= 0 else 0\n",
        "\n",
        "# Neuron class\n",
        "class Neuron:\n",
        "    def __init__(self, weights, bias):\n",
        "        self.weights = np.array(weights)\n",
        "        self.bias = bias\n",
        "\n",
        "    def forward(self, inputs):\n",
        "        total = np.dot(self.weights, inputs) + self.bias\n",
        "        return step_function(total)\n",
        "\n",
        "# Define AND gate neuron\n",
        "and_neuron = Neuron(weights=[1, 1], bias=-1.5)\n",
        "\n",
        "# Truth table for AND gate\n",
        "inputs = [(0,0), (0,1), (1,0), (1,1)]\n",
        "print(\"AND Gate using Single Neuron:\")\n",
        "for x in inputs:\n",
        "    print(f\"Input: {x}, Output: {and_neuron.forward(x)}\")\n"
      ]
    },
    {
      "cell_type": "markdown",
      "source": [
        "**2. Extent to a Feedforward Neural Network (FFNN) for XOR/AND operation using multiple layer and neurons.**"
      ],
      "metadata": {
        "id": "Pl5fCS4erwDS"
      }
    },
    {
      "cell_type": "code",
      "source": [
        "import numpy as np\n",
        "\n",
        "# Sigmoid activation\n",
        "def sigmoid(x):\n",
        "    return 1 / (1 + np.exp(-x))\n",
        "\n",
        "# Forward pass for XOR NN\n",
        "def xor_nn(x1, x2):\n",
        "    # Input layer\n",
        "    inputs = np.array([x1, x2])\n",
        "\n",
        "    # Hidden layer (2 neurons, predefined weights)\n",
        "    hidden_weights = np.array([[20, 20], [-20, -20]])\n",
        "    hidden_bias = np.array([-10, 30])\n",
        "    hidden_input = np.dot(inputs, hidden_weights.T) + hidden_bias\n",
        "    hidden_output = sigmoid(hidden_input)\n",
        "\n",
        "    # Output layer (1 neuron)\n",
        "    output_weights = np.array([20, 20])\n",
        "    output_bias = -30\n",
        "    final_input = np.dot(hidden_output, output_weights) + output_bias\n",
        "    final_output = sigmoid(final_input)\n",
        "\n",
        "    return round(final_output)\n",
        "\n",
        "# Test XOR truth table\n",
        "print(\"XOR Gate using FFNN:\")\n",
        "for x in inputs:\n",
        "    print(f\"Input: {x}, Output: {xor_nn(x[0], x[1])}\")\n"
      ],
      "metadata": {
        "colab": {
          "base_uri": "https://localhost:8080/"
        },
        "id": "hCC7707aPeTj",
        "outputId": "1f9fdca8-8314-492c-aa1f-4a974e509c9e"
      },
      "execution_count": null,
      "outputs": [
        {
          "output_type": "stream",
          "name": "stdout",
          "text": [
            "XOR Gate using FFNN:\n",
            "Input: (0, 0), Output: 0\n",
            "Input: (0, 1), Output: 1\n",
            "Input: (1, 0), Output: 1\n",
            "Input: (1, 1), Output: 0\n"
          ]
        }
      ]
    },
    {
      "cell_type": "markdown",
      "source": [
        "**3. Implement a full Multilayer Perceptron (MLP) architecture for solving more complex fuctions/datasets.**"
      ],
      "metadata": {
        "id": "aOl-bx57sCE7"
      }
    },
    {
      "cell_type": "code",
      "source": [
        "import numpy as np\n",
        "from sklearn.datasets import load_iris\n",
        "from sklearn.model_selection import train_test_split\n",
        "from sklearn.preprocessing import OneHotEncoder\n",
        "\n",
        "# Load Iris dataset\n",
        "iris = load_iris()\n",
        "X = iris.data\n",
        "y = iris.target.reshape(-1,1)\n",
        "\n",
        "# One-hot encode labels\n",
        "encoder = OneHotEncoder(sparse_output=False)\n",
        "y = encoder.fit_transform(y)\n",
        "\n",
        "# Train-test split\n",
        "X_train, X_test, y_train, y_test = train_test_split(X, y, test_size=0.2, random_state=42)\n",
        "\n",
        "# Define MLP class\n",
        "class MLP:\n",
        "    def __init__(self, input_size, hidden_size, output_size, lr=0.01):\n",
        "        self.lr = lr\n",
        "        self.W1 = np.random.randn(input_size, hidden_size)\n",
        "        self.b1 = np.zeros((1, hidden_size))\n",
        "        self.W2 = np.random.randn(hidden_size, output_size)\n",
        "        self.b2 = np.zeros((1, output_size))\n",
        "\n",
        "    def sigmoid(self, x):\n",
        "        return 1 / (1 + np.exp(-x))\n",
        "\n",
        "    def sigmoid_derivative(self, x):\n",
        "        return x * (1 - x)\n",
        "\n",
        "    def forward(self, X):\n",
        "        self.z1 = np.dot(X, self.W1) + self.b1\n",
        "        self.a1 = self.sigmoid(self.z1)\n",
        "        self.z2 = np.dot(self.a1, self.W2) + self.b2\n",
        "        self.a2 = self.sigmoid(self.z2)\n",
        "        return self.a2\n",
        "\n",
        "    def backward(self, X, y, output):\n",
        "        error = y - output\n",
        "        d_output = error * self.sigmoid_derivative(output)\n",
        "\n",
        "        error_hidden = d_output.dot(self.W2.T)\n",
        "        d_hidden = error_hidden * self.sigmoid_derivative(self.a1)\n",
        "\n",
        "        # Update weights\n",
        "        self.W2 += self.a1.T.dot(d_output) * self.lr\n",
        "        self.b2 += np.sum(d_output, axis=0, keepdims=True) * self.lr\n",
        "        self.W1 += X.T.dot(d_hidden) * self.lr\n",
        "        self.b1 += np.sum(d_hidden, axis=0, keepdims=True) * self.lr\n",
        "\n",
        "    def train(self, X, y, epochs=1000):\n",
        "        for epoch in range(epochs):\n",
        "            output = self.forward(X)\n",
        "            self.backward(X, y, output)\n",
        "            if epoch % 100 == 0:\n",
        "                loss = np.mean(np.square(y - output))\n",
        "                print(f\"Epoch {epoch}, Loss: {loss:.4f}\")\n",
        "\n",
        "# Train the model\n",
        "mlp = MLP(input_size=4, hidden_size=5, output_size=3, lr=0.01)\n",
        "mlp.train(X_train, y_train, epochs=1000)\n",
        "\n",
        "# Test accuracy\n",
        "predictions = np.argmax(mlp.forward(X_test), axis=1)\n",
        "true_labels = np.argmax(y_test, axis=1)\n",
        "accuracy = np.mean(predictions == true_labels)\n",
        "print(\"Test Accuracy:\", accuracy)\n"
      ],
      "metadata": {
        "colab": {
          "base_uri": "https://localhost:8080/"
        },
        "id": "GPxBS6EtPlD7",
        "outputId": "bae183b8-9691-42a7-bf0c-7d73656e9e74"
      },
      "execution_count": null,
      "outputs": [
        {
          "output_type": "stream",
          "name": "stdout",
          "text": [
            "Epoch 0, Loss: 0.2614\n",
            "Epoch 100, Loss: 0.1596\n",
            "Epoch 200, Loss: 0.1264\n",
            "Epoch 300, Loss: 0.1191\n",
            "Epoch 400, Loss: 0.1163\n",
            "Epoch 500, Loss: 0.1148\n",
            "Epoch 600, Loss: 0.1138\n",
            "Epoch 700, Loss: 0.1129\n",
            "Epoch 800, Loss: 0.1118\n",
            "Epoch 900, Loss: 0.1099\n",
            "Test Accuracy: 0.8\n"
          ]
        }
      ]
    }
  ]
}